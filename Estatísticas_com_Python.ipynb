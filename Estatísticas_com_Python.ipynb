{
  "nbformat": 4,
  "nbformat_minor": 0,
  "metadata": {
    "colab": {
      "provenance": [],
      "include_colab_link": true
    },
    "kernelspec": {
      "name": "python3",
      "display_name": "Python 3"
    },
    "language_info": {
      "name": "python"
    }
  },
  "cells": [
    {
      "cell_type": "markdown",
      "metadata": {
        "id": "view-in-github",
        "colab_type": "text"
      },
      "source": [
        "<a href=\"https://colab.research.google.com/github/byanca04/analise-de-dados/blob/main/Estat%C3%ADsticas_com_Python.ipynb\" target=\"_parent\"><img src=\"https://colab.research.google.com/assets/colab-badge.svg\" alt=\"Open In Colab\"/></a>"
      ]
    },
    {
      "cell_type": "code",
      "execution_count": null,
      "metadata": {
        "id": "PaMyQyGZ4mQv"
      },
      "outputs": [],
      "source": [
        "# métodos que permitem a seleção aleatória de elementosde um DataFrame, ou a geração de valores aleatórios para a criação de exemplos em conjuntos de dados ou testes.\n",
        "import random"
      ]
    },
    {
      "cell_type": "code",
      "source": [
        "# População de idades\n",
        "populacao = [ 23, 35, 42, 19, 50, 27, 31, 38, 45,\n",
        "             28, 36, 21, 29, 33, 39, 26, 43, 32, 24, 30]\n",
        "\n",
        "# obtendo o tamanho da poluação\n",
        "tamanho_populacao = len(populacao)   # len()retorna o comprimento de um objeto.\n",
        "\n",
        "# Imprimeindo a população\n",
        "print(\"População: \", populacao)\n",
        "print(\"Tamanho da população: \", tamanho_populacao )"
      ],
      "metadata": {
        "colab": {
          "base_uri": "https://localhost:8080/"
        },
        "id": "j4xOBkza4-Si",
        "outputId": "7c210265-e2f5-407d-94bc-26cc6f66e380"
      },
      "execution_count": null,
      "outputs": [
        {
          "output_type": "stream",
          "name": "stdout",
          "text": [
            "População:  [23, 35, 42, 19, 50, 27, 31, 38, 45, 28, 36, 21, 29, 33, 39, 26, 43, 32, 24, 30]\n",
            "Tamanho da população:  20\n"
          ]
        }
      ]
    },
    {
      "cell_type": "code",
      "source": [
        "# análise com amostra\n",
        "\n",
        "# Tamanho da amostra\n",
        "tamanho_amostra = 5\n",
        "\n",
        "# Criando uma amostra\n",
        "amostra = random.sample(populacao, tamanho_amostra)\n",
        "\n",
        "# Imprimindo uma amostra\n",
        "print(\"Amostra: \", amostra)"
      ],
      "metadata": {
        "colab": {
          "base_uri": "https://localhost:8080/"
        },
        "id": "Iv6-0Jxy6joI",
        "outputId": "15c63d0f-a726-4120-a83b-7067d2d6ea85"
      },
      "execution_count": null,
      "outputs": [
        {
          "output_type": "stream",
          "name": "stdout",
          "text": [
            "Amostra:  [24, 23, 35, 45, 31]\n"
          ]
        }
      ]
    },
    {
      "cell_type": "code",
      "source": [
        "import numpy as np\n",
        "\n",
        "# População\n",
        "populacao = np.arange(1, 101)\n",
        "\n",
        "# Tamanho da População\n",
        "tamanho_populacao = len(populacao)\n",
        "\n",
        "# Tamanho desejado da amostra (porcentagem da população)\n",
        "porcentagem_amostra = 20\n",
        "tamanho_amostra = int ((porcentagem_amostra / 100) * tamanho_populacao)\n",
        "\n",
        "# Amostra aleatório simples\n",
        "amostra = np.random.choice(populacao, size=tamanho_amostra, replace=False)\n",
        "\n",
        "# Imprimindo uma amostra\n",
        "print(\"Amostra: \", amostra)"
      ],
      "metadata": {
        "id": "CNvUNQvg8XSX",
        "colab": {
          "base_uri": "https://localhost:8080/"
        },
        "outputId": "1f0afb1b-d700-4699-a9ad-34fa7d60c9c2"
      },
      "execution_count": null,
      "outputs": [
        {
          "output_type": "stream",
          "name": "stdout",
          "text": [
            "Amostra:  [ 1  3 19 46 78  8 85 25 37 62  9 15 24 50 83 43 96 35 69 79]\n"
          ]
        }
      ]
    },
    {
      "cell_type": "code",
      "source": [
        "# população\n",
        "populacao = [1, 2, 3, 4, 5, 6, 7, 8, 9, 10]\n",
        "\n",
        "# Tamanho da amostra desejada\n",
        "tamanho_amostra = 4\n",
        "\n",
        "# Amostra aleatória simples\n",
        "amostra =random.sample(populacao, tamanho_amostra)\n",
        "\n",
        "# Imprimindo uma amostra\n",
        "print(amostra)"
      ],
      "metadata": {
        "id": "7OmkwbLb8YV-",
        "colab": {
          "base_uri": "https://localhost:8080/"
        },
        "outputId": "155bcade-abda-42f2-dfea-bfdbd84746e0"
      },
      "execution_count": null,
      "outputs": [
        {
          "output_type": "stream",
          "name": "stdout",
          "text": [
            "[3, 6, 9, 1]\n"
          ]
        }
      ]
    },
    {
      "cell_type": "code",
      "source": [
        "from sklearn.model_selection import StratifiedShuffleSplit\n",
        "import numpy as np\n",
        "\n",
        "# dados da população\n",
        "população = np.array([1, 2, 3, 4, 5, 6, 8, 9, 10])\n",
        "\n",
        "classes = np.array(['A', 'B', 'A', 'B', 'A', 'B', 'A', 'B', 'A'])\n",
        "\n",
        "# Definido os estratos com base nas classes\n",
        "estratos = classes\n",
        "\n",
        "# Definindo o objeto de amostragem estratificada\n",
        "amostrador = StratifiedShuffleSplit(n_splits=1, test_size=0.3, random_state=42)\n",
        "\n",
        "# Realizando a amsotragem\n",
        "for indice_treino, indice_teste in amostrador.split(população, estratos):\n",
        "    amostra_treino = população[indice_treino]\n",
        "    amostra_teste = população[indice_teste]\n",
        "    classes_treino = classes[indice_treino]\n",
        "    classes_teste = classes[indice_teste]\n",
        "\n",
        "# Exibindo os resulatdos\n",
        "print(\"Amostra de Treino: \", amostra_treino)\n",
        "print(\"Classes de Treino: \", classes_treino)\n",
        "print(\"Amostra de Teste: \", amostra_teste)\n",
        "print(\"Classes de Teste: \", classes_teste)"
      ],
      "metadata": {
        "colab": {
          "base_uri": "https://localhost:8080/"
        },
        "id": "JnPt78uzmkte",
        "outputId": "eee0a01f-bb21-4377-87a4-818a49706553"
      },
      "execution_count": null,
      "outputs": [
        {
          "output_type": "stream",
          "name": "stdout",
          "text": [
            "Amostra de Treino:  [ 2  3  4  6  5 10]\n",
            "Classes de Treino:  ['B' 'A' 'B' 'B' 'A' 'A']\n",
            "Amostra de Teste:  [9 8 1]\n",
            "Classes de Teste:  ['B' 'A' 'A']\n"
          ]
        }
      ]
    },
    {
      "cell_type": "markdown",
      "source": [
        "O parâmetro test_size define a proporção da amostra de teste em relação à população total (30% neste caso). O parâmetro random_state é usado para garantir a reprodutibilidade dos resultados."
      ],
      "metadata": {
        "id": "Jfz-QRLqoycK"
      }
    },
    {
      "cell_type": "markdown",
      "source": [
        "#Intervalo de confiança\n"
      ],
      "metadata": {
        "id": "82NJ2md5pTb6"
      }
    },
    {
      "cell_type": "code",
      "source": [
        "from scipy import stats\n",
        "\n",
        "# Amostra de dados\n",
        "amostra = [23, 56, 32, 64, 13, 57, 78, 34, 38, 40]\n",
        "\n",
        "# Nível de confiança desejado (em porcentagem)\n",
        "nivel_confianca = 95;\n",
        "\n",
        "# Calcular média e devio padrão da amostra\n",
        "media_amostra = 95\n",
        "np.mean(amostra)\n",
        "\n",
        "# Usar o ddof=1 para calcular o desvio padrão amostral\n",
        "desvio_padrao_amostra = np.std(amostra, ddof=1)\n",
        "\n",
        "# Calcular tamanho da amostra\n",
        "tamanho_amostra = len(amostra)\n",
        "\n",
        "# Calcular intervalo de confiança\n",
        "intervalo_confianca = stats.t.interval(nivel_confianca/100,\n",
        "tamanho_amostra-1, loc=media_amostra, scale=desvio_padrao_amostra/np.sqrt(tamanho_amostra))\n",
        "\n",
        "# Imprimir resultados\n",
        "print(\"Média da amostra: \", media_amostra)\n",
        "print(\"Desvio padrão da amostra: \", desvio_padrao_amostra)\n",
        "print(\"Tamanho da amostra: \", tamanho_amostra)\n",
        "print(\"Intervalo de confiança ({}%): \", format(intervalo_confianca))\n",
        "print(\"erro padrão :\", erro_padrao)\n",
        "# Calcular o erro padrão\n",
        "erro_padrao = desvio_padrao_amostra / np.sqrt(len(amostra))\n"
      ],
      "metadata": {
        "colab": {
          "base_uri": "https://localhost:8080/"
        },
        "id": "MQiuv37MpSqb",
        "outputId": "99c35b22-d8ad-4fae-f016-5e7b2c28eb5e"
      },
      "execution_count": null,
      "outputs": [
        {
          "output_type": "stream",
          "name": "stdout",
          "text": [
            "Média da amostra:  95\n",
            "Desvio padrão da amostra:  19.901144579032522\n",
            "Tamanho da amostra:  10\n",
            "Intervalo de confiança ({}%):  (np.float64(80.76357878831666), np.float64(109.23642121168334))\n",
            "erro padrão : 6.293294491405558\n"
          ]
        }
      ]
    },
    {
      "cell_type": "markdown",
      "source": [
        "#Média\n",
        "- a soma dos valores dividido pelas quantidades tottal dos valores no conjunto de dados."
      ],
      "metadata": {
        "id": "mk8S0EsZsmXN"
      }
    },
    {
      "cell_type": "code",
      "source": [
        "# Definindo um conjunto de dados\n",
        "dados = [5, 10, 15, 20, 25]\n",
        "\n",
        "# Calculando a média\n",
        "media = stats.mean(dados)\n",
        "\n",
        "# Imprimindo a média\n",
        "print(\"Média: \", media)"
      ],
      "metadata": {
        "colab": {
          "base_uri": "https://localhost:8080/"
        },
        "id": "giN5Pbusso8T",
        "outputId": "261b3d52-f433-4a07-a962-261f01222e85"
      },
      "execution_count": null,
      "outputs": [
        {
          "output_type": "stream",
          "name": "stdout",
          "text": [
            "Média:  15\n"
          ]
        }
      ]
    },
    {
      "cell_type": "markdown",
      "source": [
        "#Mediana\n",
        "- o valor central no conjunto de dados.\n",
        "- caso seja dois números no centro dos dados e feito a média entre esses dois valores."
      ],
      "metadata": {
        "id": "ITB37160t0Ua"
      }
    },
    {
      "cell_type": "code",
      "source": [
        "dados = [5, 10, 15, 20, 25, 30, 45, 70]\n",
        "\n",
        "# Calculando a mediana\n",
        "mediana = stats.median(dados)\n",
        "\n",
        "# Imprimindo a mediana\n",
        "print(\"Mediana: \", mediana)"
      ],
      "metadata": {
        "colab": {
          "base_uri": "https://localhost:8080/"
        },
        "id": "GoYkf005t2ob",
        "outputId": "b5ff0abe-5a17-4b94-c86d-8c0e7f71f379"
      },
      "execution_count": null,
      "outputs": [
        {
          "output_type": "stream",
          "name": "stdout",
          "text": [
            "Mediana:  22.5\n"
          ]
        }
      ]
    },
    {
      "cell_type": "markdown",
      "source": [
        "# Moda\n",
        "- o valor que mais repete no conjunto de dados"
      ],
      "metadata": {
        "id": "cMiOx7PouKTR"
      }
    },
    {
      "cell_type": "code",
      "source": [
        "import statistics as stats\n",
        "\n",
        "dados = [ 5, 10, 15, 20, 25, 15, 15]\n",
        "\n",
        "# Calculando a moda\n",
        "moda = stats.mode(dados)\n",
        "\n",
        "# Imprimindo o resultado\n",
        "print(\"A moda é: \", moda)"
      ],
      "metadata": {
        "id": "ESHlJjSGuOIM",
        "colab": {
          "base_uri": "https://localhost:8080/"
        },
        "outputId": "e8825d9d-b942-44c2-e5a1-be487e4c2d00"
      },
      "execution_count": null,
      "outputs": [
        {
          "output_type": "stream",
          "name": "stdout",
          "text": [
            "A moda é:  15\n"
          ]
        }
      ]
    },
    {
      "cell_type": "markdown",
      "source": [
        "# Variância\n",
        "- A variância é uma medida de variabilidade que mede o quão dispersos os valores estão em relação à média."
      ],
      "metadata": {
        "id": "6rL6e5WJvxBc"
      }
    },
    {
      "cell_type": "code",
      "source": [
        "dados = [5, 10, 15, 20, 25]\n",
        "\n",
        "# Calculando a variância\n",
        "varianca = stats.variance(dados)\n",
        "\n",
        "print(\"A variância é: \", varianca)"
      ],
      "metadata": {
        "colab": {
          "base_uri": "https://localhost:8080/"
        },
        "id": "xnBNLrXsv-2s",
        "outputId": "5e2608b4-b6e9-4bd9-a1d3-8987655fbdf1"
      },
      "execution_count": null,
      "outputs": [
        {
          "output_type": "stream",
          "name": "stdout",
          "text": [
            "A variância é:  62.5\n"
          ]
        }
      ]
    },
    {
      "cell_type": "markdown",
      "source": [
        "# Desvio Padrão\n",
        "- O desvio padrão é a raiz quadrada da variância e também é uma medida de variabilidade. Ele fornece uma medida mais interpretável da dispersão dos valores em relação à média."
      ],
      "metadata": {
        "id": "3mYY3YWuIbBT"
      }
    },
    {
      "cell_type": "code",
      "source": [
        "dados = [5, 10, 15, 20, 25]\n",
        "\n",
        "# Calculando o desvio padrão\n",
        "desvio_padrao = stats.stdev(dados)\n",
        "\n",
        "print(\"Desvio padrão é : \", desvio_padrao)"
      ],
      "metadata": {
        "colab": {
          "base_uri": "https://localhost:8080/"
        },
        "id": "pSMulCe7Iyk_",
        "outputId": "d59187d5-770d-46c2-fd85-c12933099837"
      },
      "execution_count": null,
      "outputs": [
        {
          "output_type": "stream",
          "name": "stdout",
          "text": [
            "Desvio padrão é :  7.905694150420948\n"
          ]
        }
      ]
    },
    {
      "cell_type": "markdown",
      "source": [
        "\n",
        "#Quartis\n",
        "\n",
        "*Os quartis dividem um conjunto de dados ordenados em quatro partes iguais.\n",
        "- 1º quartil: Também chamado de quartil inferior, é o valor que representa 25% dos dados.\n",
        "- 2º quartil: Também chamado de mediana, é o valor que representa 50% dos dados.\n",
        "- 3º quartil: Também chamado de quartil superior, é o valor que representa 75% dos dados.\n"
      ],
      "metadata": {
        "id": "47xr1lJHJR-_"
      }
    },
    {
      "cell_type": "code",
      "source": [
        "dados = [ 5, 10, 15, 20, 25, 30, 35, 40, 45, 50]\n",
        "\n",
        "# Calculando os quartis\n",
        "q1 = stats.quantiles(dados, n=4) [0]   # primeiro quartil\n",
        "q2 = stats.quantiles(dados, n=4) [1]   # segundo quartil(mediana)\n",
        "q3 = stats.quantiles(dados, n=4) [2]   # terceiro quartil\n",
        "q4 = max(dados)\n",
        "\n",
        "print(\"1º quartil: \", q1)\n",
        "print(\"2º quartil: \", q2)\n",
        "print(\"3º quartil: \", q3)\n",
        "print(\"4° quartil: \", q4)"
      ],
      "metadata": {
        "colab": {
          "base_uri": "https://localhost:8080/"
        },
        "id": "77ZCktlEJknZ",
        "outputId": "f47ec4ed-b8e1-4eec-bbbc-069f7edaaaaa"
      },
      "execution_count": null,
      "outputs": [
        {
          "output_type": "stream",
          "name": "stdout",
          "text": [
            "1º quartil:  13.75\n",
            "2º quartil:  27.5\n",
            "3º quartil:  41.25\n",
            "4° quartil:  50\n"
          ]
        }
      ]
    },
    {
      "cell_type": "markdown",
      "source": [
        "# Amplitude\n",
        "- A amplitude é a diferença entre o maior e o menor valor em um conjunto de dados."
      ],
      "metadata": {
        "id": "RHTfs_JGLffb"
      }
    },
    {
      "cell_type": "code",
      "source": [
        "dados = [5, 10, 15, 20, 25]\n",
        "\n",
        "# Calculando a amplitude\n",
        "amplitude = max(dados) - min(dados)\n",
        "\n",
        "print(\"A amplitude é: \", amplitude)"
      ],
      "metadata": {
        "colab": {
          "base_uri": "https://localhost:8080/"
        },
        "id": "hBwpeMDNLfqx",
        "outputId": "d62703e5-05c6-477d-f409-6c1ca6cbd9ca"
      },
      "execution_count": null,
      "outputs": [
        {
          "output_type": "stream",
          "name": "stdout",
          "text": [
            "A amplitude é:  20\n"
          ]
        }
      ]
    },
    {
      "cell_type": "markdown",
      "source": [
        "#Percentil\n",
        "- Percentil é uma medida que divide um conjunto de dados em 100 partes iguais, cada uma com uma percentagem de dados aproximadamente igual."
      ],
      "metadata": {
        "id": "YkmmiMd8Lx6y"
      }
    },
    {
      "cell_type": "code",
      "source": [
        "import numpy as np\n",
        "\n",
        "dados = [5, 10, 15, 20, 25, 30, 35, 40, 45, 50]\n",
        "\n",
        "# Calculando o percentil\n",
        "percentil_25 = np.percentile(dados, 25)\n",
        "percentil_50 = np.percentile(dados, 50) # mediana\n",
        "percentil_75 = np.percentile(dados, 75)\n",
        "\n",
        "# Imprimindo os resultados\n",
        "print(\"Percentil 25: \", percentil_25)\n",
        "print(\"Percentil 50: \", percentil_50)\n",
        "print(\"Percentil 75: \", percentil_75)"
      ],
      "metadata": {
        "id": "7BSeChFNLyGv",
        "colab": {
          "base_uri": "https://localhost:8080/"
        },
        "outputId": "7156cd15-bf9b-4f9e-fb12-a606cf7ae4bd"
      },
      "execution_count": null,
      "outputs": [
        {
          "output_type": "stream",
          "name": "stdout",
          "text": [
            "Percentil 25:  16.25\n",
            "Percentil 50:  27.5\n",
            "Percentil 75:  38.75\n"
          ]
        }
      ]
    },
    {
      "cell_type": "markdown",
      "source": [
        "# Intervalo interquartil\n",
        "- O IQR é a diferença entre o terceiro quartil (Q3) e o primeiro quartil (Q1)."
      ],
      "metadata": {
        "id": "LkcozeyvKEOh"
      }
    },
    {
      "cell_type": "code",
      "source": [
        "dados = [5, 10, 15, 20, 25, 30, 35, 40, 45, 50]\n",
        "\n",
        "# Calculando o IQR\n",
        "q1 = np.percentile(dados, 25)\n",
        "q3 = np.percentile(dados, 75)\n",
        "iqr = q3 - q1\n",
        "\n",
        "# Resultado\n",
        "print(\"O intervalo interquartil (IQR) é: \", iqr)"
      ],
      "metadata": {
        "colab": {
          "base_uri": "https://localhost:8080/"
        },
        "id": "qgDA3gqtKEgi",
        "outputId": "32acf8a0-3611-4145-fd97-1475bfaa42d5"
      },
      "execution_count": null,
      "outputs": [
        {
          "output_type": "stream",
          "name": "stdout",
          "text": [
            "O intervalo interquartil (IQR) é:  22.5\n"
          ]
        }
      ]
    },
    {
      "cell_type": "markdown",
      "source": [
        "# Coeficiente de variação\n",
        "- O coeficiente de variação é uma medida de variabilidade relativa, expressa como uma porcentagem da média. É calculado dividindo o desvio padrão pela média e multiplicando por 100."
      ],
      "metadata": {
        "id": "qAQrP15bKoQX"
      }
    },
    {
      "cell_type": "code",
      "source": [
        "import statistics\n",
        "\n",
        "# Definindo um conjunto de dados\n",
        "dados = [5, 10, 15, 20, 25]\n",
        "\n",
        "# Calculando o coeficiente de variação\n",
        "cv = statistics.stdev(dados) / statistics.mean(dados) * 100\n",
        "\n",
        "# Imprimindo o resultado\n",
        "print(\"O coeficiente de variação é: \", cv)"
      ],
      "metadata": {
        "colab": {
          "base_uri": "https://localhost:8080/"
        },
        "id": "r8ljzMxzKolh",
        "outputId": "583a3087-9bb1-4c22-c8c1-2d9b5f4b3e77"
      },
      "execution_count": null,
      "outputs": [
        {
          "output_type": "stream",
          "name": "stdout",
          "text": [
            "O coeficiente de variação é:  52.70462766947299\n"
          ]
        }
      ]
    },
    {
      "cell_type": "markdown",
      "source": [
        "#Boxplot\n",
        "- Um boxplot é um gráfico que ilustra visualmente a distribuição de um conjunto de dados, destacando os quartis, a mediana e os valores discrepantes potenciais."
      ],
      "metadata": {
        "id": "A9hvmZt6ORwk"
      }
    },
    {
      "cell_type": "code",
      "source": [
        "import matplotlib.pyplot as plt\n",
        "\n",
        "# Definindo um conjunto de dados\n",
        "dados = [5, 10, 15, 20, 25, 30, 35, 40, 45, 50]\n",
        "\n",
        "# Criando um boxplot\n",
        "plt.boxplot(dados)\n",
        "\n",
        "# Definindo o título do gráfico\n",
        "plt.title(\"Boxplot\")\n",
        "\n",
        "plt.show()"
      ],
      "metadata": {
        "colab": {
          "base_uri": "https://localhost:8080/",
          "height": 452
        },
        "id": "8sZJtgc2OSDb",
        "outputId": "e6dcd77f-63d5-4371-dbee-8ba1945c38db"
      },
      "execution_count": null,
      "outputs": [
        {
          "output_type": "display_data",
          "data": {
            "text/plain": [
              "<Figure size 640x480 with 1 Axes>"
            ],
            "image/png": "[encoded data removed]"
          },
          "metadata": {}
        }
      ]
    },
    {
      "cell_type": "markdown",
      "source": [
        "# Dados discrepantes(outliers)\n",
        "- Dados discrepantes são valores que estão significativamente distantes dos demais valores em um conjunto de dados."
      ],
      "metadata": {
        "id": "HP-CRgeTO0cr"
      }
    },
    {
      "cell_type": "code",
      "source": [
        "dados = [5, 10, 15, 20, 25, 30, 35, 40, 45, 50, 200]\n",
        "\n",
        "# Criando o boxplot\n",
        "plt.boxplot(dados)\n",
        "\n",
        "# Definindo o título do gráfico\n",
        "plt.title(\"Boxplot com outliers\")\n",
        "\n",
        "plt.show()"
      ],
      "metadata": {
        "colab": {
          "base_uri": "https://localhost:8080/",
          "height": 452
        },
        "id": "OUJdAEX4O0qW",
        "outputId": "83433f22-d238-4bbe-f937-325bfeb2af1f"
      },
      "execution_count": null,
      "outputs": [
        {
          "output_type": "display_data",
          "data": {
            "text/plain": [
              "<Figure size 640x480 with 1 Axes>"
            ],
            "image/png": "[encoded data removed]"
          },
          "metadata": {}
        }
      ]
    },
    {
      "cell_type": "code",
      "source": [
        "import numpy as np\n",
        "import matplotlib.pyplot as plt\n",
        "\n",
        "# Parâmetros da distribuição normal\n",
        "media = 50\n",
        "desvio_padrao = 10\n",
        "tamanho_amostra = 1000\n",
        "\n",
        "# Gerando uma amostra da distribuição normal\n",
        "amostra = np.random.normal(loc=media, scale=desvio_padrao, size=tamanho_amostra)\n",
        "\n",
        "# Plotando o histograma da amostra\n",
        "plt.hist(amostra, bins=30, edgecolor='black')\n",
        "plt.title(\"Distribuição da amostra\")\n",
        "plt.xlabel(\"Valores\")\n",
        "plt.ylabel(\"Frequência\")\n",
        "plt.show()"
      ],
      "metadata": {
        "colab": {
          "base_uri": "https://localhost:8080/",
          "height": 472
        },
        "id": "2pbCx7P6hsxI",
        "outputId": "0a2186ba-7a9c-4daf-dd2b-42f39628652e"
      },
      "execution_count": null,
      "outputs": [
        {
          "output_type": "display_data",
          "data": {
            "text/plain": [
              "<Figure size 640x480 with 1 Axes>"
            ],
            "image/png": "[encoded data removed]"
          },
          "metadata": {}
        }
      ]
    }
  ]
}